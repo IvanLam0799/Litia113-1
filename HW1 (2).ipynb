{
  "nbformat": 4,
  "nbformat_minor": 0,
  "metadata": {
    "colab": {
      "provenance": []
    },
    "kernelspec": {
      "name": "python3",
      "display_name": "Python 3"
    },
    "language_info": {
      "name": "python"
    }
  },
  "cells": [
    {
      "cell_type": "code",
      "execution_count": 1,
      "metadata": {
        "colab": {
          "base_uri": "https://localhost:8080/"
        },
        "id": "MUoBe4FKqmJ_",
        "outputId": "7e822833-1f81-43d4-9621-0b4fbc18146e"
      },
      "outputs": [
        {
          "output_type": "stream",
          "name": "stdout",
          "text": [
            "['apple', 'banana', 'orange']\n",
            "[1, 2, 3, 4, 5]\n",
            "['apple', 1, 2, 3, ['dog', 'cat']]\n",
            "['a', 'p', 'p', 'l', 'e']\n"
          ]
        }
      ],
      "source": [
        "a = ['apple','banana','orange']\n",
        "b = [1,2,3,4,5]\n",
        "c = ['apple',1,2,3,['dog','cat']]\n",
        "d = list('apple')\n",
        "\n",
        "print(f'{a}\\n{b}\\n{c}\\n{d}')"
      ]
    },
    {
      "cell_type": "code",
      "source": [
        "t = ('apple','banana','orange','grap')\n",
        "a, b, c, d = t\n",
        "\n",
        "print(f'{a}\\n{b}\\n{c}\\n{d}')\n",
        "print(f'\\n{t[0]}\\n{t[1]}\\n{t[2]}\\n{t[3]}\\n')\n",
        "\n",
        "t1 = ('apple','banana','orange')\n",
        "t2 = ('grap','pineapple')\n",
        "t = t1 + t2\n",
        "print(t)"
      ],
      "metadata": {
        "colab": {
          "base_uri": "https://localhost:8080/"
        },
        "id": "q0KjK7BTqy9H",
        "outputId": "483d2b73-228b-4546-fef4-4116aca057ac"
      },
      "execution_count": 4,
      "outputs": [
        {
          "output_type": "stream",
          "name": "stdout",
          "text": [
            "apple\n",
            "banana\n",
            "orange\n",
            "grap\n",
            "\n",
            "apple\n",
            "banana\n",
            "orange\n",
            "grap\n",
            "\n",
            "('apple', 'banana', 'orange', 'grap', 'pineapple')\n"
          ]
        }
      ]
    },
    {
      "cell_type": "code",
      "source": [
        "t = ('apple','banana','orange','grap')\n",
        "\n",
        "print(f'{a}\\n{b}\\n{c}\\n{d}')\n",
        "print(f'\\n{t[0]}\\n{t[1]}\\n{t[2]}\\n{t[3]}\\n')\n",
        "\n",
        "t1 = ('apple','banana','orange')\n",
        "t2 = ('grap','pineapple')\n",
        "t = t1 + t2\n",
        "print(t)"
      ],
      "metadata": {
        "colab": {
          "base_uri": "https://localhost:8080/"
        },
        "id": "KmWnmBAqrB5M",
        "outputId": "353f01b0-aeaf-4dc5-c17e-595cbbb5a4ee"
      },
      "execution_count": 5,
      "outputs": [
        {
          "output_type": "stream",
          "name": "stdout",
          "text": [
            "apple\n",
            "banana\n",
            "orange\n",
            "grap\n",
            "\n",
            "apple\n",
            "banana\n",
            "orange\n",
            "grap\n",
            "\n",
            "('apple', 'banana', 'orange', 'grap', 'pineapple')\n"
          ]
        }
      ]
    },
    {
      "cell_type": "code",
      "source": [
        "a = dict(name='oxxo', age=18, eat=['apple','banana'])\n",
        "\n",
        "print(a)\n",
        "print(type(a))"
      ],
      "metadata": {
        "colab": {
          "base_uri": "https://localhost:8080/"
        },
        "id": "TyWds4gJrxRs",
        "outputId": "7033accd-e19b-4472-eac6-886df500ac67"
      },
      "execution_count": 6,
      "outputs": [
        {
          "output_type": "stream",
          "name": "stdout",
          "text": [
            "{'name': 'oxxo', 'age': 18, 'eat': ['apple', 'banana']}\n",
            "<class 'dict'>\n"
          ]
        }
      ]
    },
    {
      "cell_type": "code",
      "source": [
        "a = 2\n",
        "b = 3\n",
        "\n",
        "if(a>b):\n",
        "  print('hello')\n",
        "print('ok')\n",
        "\n",
        "\n",
        "\n",
        "if(a>b):\n",
        "  print('hello')\n",
        "else:\n",
        "  print('world')\n",
        "print('ok')\n",
        "\n",
        "\n",
        "\n",
        "if(a<b):\n",
        "  print('a<b')\n",
        "  if(a==1):\n",
        "    print('a=1')\n",
        "  elif(a==2):\n",
        "    print('a=2')\n",
        "  elif(a==3):\n",
        "    print('a=3')\n",
        "elif(a>b):\n",
        "  print('a>b')\n",
        "else:\n",
        "  print('a=b')\n",
        "print('ok')"
      ],
      "metadata": {
        "colab": {
          "base_uri": "https://localhost:8080/"
        },
        "id": "BLRFLZSQr7DI",
        "outputId": "37d1455c-614a-4669-9938-788154d634d9"
      },
      "execution_count": 9,
      "outputs": [
        {
          "output_type": "stream",
          "name": "stdout",
          "text": [
            "ok\n",
            "world\n",
            "ok\n",
            "a<b\n",
            "a=2\n",
            "ok\n"
          ]
        }
      ]
    },
    {
      "cell_type": "code",
      "source": [
        "a = 2\n",
        "b = 3\n",
        "c = 0\n",
        "\n",
        "if(a>b or a<c and a==2 or b==4):\n",
        "  print('ok1')\n",
        "else:\n",
        "  print('XXX')"
      ],
      "metadata": {
        "colab": {
          "base_uri": "https://localhost:8080/"
        },
        "id": "rrAbANgMs662",
        "outputId": "9cba5444-24a5-4eef-cc3d-d810ac889ddf"
      },
      "execution_count": 10,
      "outputs": [
        {
          "output_type": "stream",
          "name": "stdout",
          "text": [
            "XXX\n"
          ]
        }
      ]
    },
    {
      "cell_type": "code",
      "source": [
        "for a in ['x', 'y', 'z']:\n",
        "  for b in [1, 2, 3]:\n",
        "    print(b)\n",
        "  print(a)"
      ],
      "metadata": {
        "colab": {
          "base_uri": "https://localhost:8080/"
        },
        "id": "l-zoVTZ7tKgv",
        "outputId": "062a1130-0af2-4e62-df0e-07b039adcc2d"
      },
      "execution_count": 11,
      "outputs": [
        {
          "output_type": "stream",
          "name": "stdout",
          "text": [
            "1\n",
            "2\n",
            "3\n",
            "x\n",
            "1\n",
            "2\n",
            "3\n",
            "y\n",
            "1\n",
            "2\n",
            "3\n",
            "z\n"
          ]
        }
      ]
    },
    {
      "cell_type": "code",
      "source": [
        "for a in ['x', 'y', 'z']:\n",
        "  for b in [1, 2, 3]:\n",
        "    print(f'{a}{b}')"
      ],
      "metadata": {
        "colab": {
          "base_uri": "https://localhost:8080/"
        },
        "id": "r09DRN_9tZSi",
        "outputId": "16e2de7a-6846-474f-c178-87c960052f20"
      },
      "execution_count": 12,
      "outputs": [
        {
          "output_type": "stream",
          "name": "stdout",
          "text": [
            "x1\n",
            "x2\n",
            "x3\n",
            "y1\n",
            "y2\n",
            "y3\n",
            "z1\n",
            "z2\n",
            "z3\n"
          ]
        }
      ]
    },
    {
      "cell_type": "code",
      "source": [
        "i = []\n",
        "for t in range(10):\n",
        "  t += 1\n",
        "  i.append(t)\n",
        "print(i)"
      ],
      "metadata": {
        "colab": {
          "base_uri": "https://localhost:8080/"
        },
        "id": "MhNMh0OItfZx",
        "outputId": "85998d64-c4ac-4062-847d-7cb3cba7d79e"
      },
      "execution_count": 13,
      "outputs": [
        {
          "output_type": "stream",
          "name": "stdout",
          "text": [
            "[1, 2, 3, 4, 5, 6, 7, 8, 9, 10]\n"
          ]
        }
      ]
    },
    {
      "cell_type": "code",
      "source": [
        "a = int(input('輸入數字：'))\n",
        "print(a + 1)\n",
        "print('hello')"
      ],
      "metadata": {
        "colab": {
          "base_uri": "https://localhost:8080/"
        },
        "id": "rqTywKHkuUp7",
        "outputId": "459a12ad-ca8c-4126-fa7c-4c2d7dc84f46"
      },
      "execution_count": 15,
      "outputs": [
        {
          "output_type": "stream",
          "name": "stdout",
          "text": [
            "輸入數字：1\n",
            "2\n",
            "hello\n"
          ]
        }
      ]
    },
    {
      "cell_type": "code",
      "source": [
        "try:\n",
        "  a = int(input('輸入數字：'))\n",
        "  print(a + 1)\n",
        "except:\n",
        "  pass\n",
        "print('hello')"
      ],
      "metadata": {
        "colab": {
          "base_uri": "https://localhost:8080/"
        },
        "id": "j_uCnVzvunbp",
        "outputId": "e4e94641-c009-47d5-d4c9-2b0be91341e5"
      },
      "execution_count": 16,
      "outputs": [
        {
          "output_type": "stream",
          "name": "stdout",
          "text": [
            "輸入數字：1\n",
            "2\n",
            "hello\n"
          ]
        }
      ]
    },
    {
      "cell_type": "code",
      "source": [
        "a = []\n",
        "for i in range(1,10):\n",
        "  a.append(i*i)\n",
        "print(a)\n",
        "\n",
        "b = [j*j for j in range(1,10)]\n",
        "print(b)"
      ],
      "metadata": {
        "colab": {
          "base_uri": "https://localhost:8080/"
        },
        "id": "U5_s-mkAu3Ou",
        "outputId": "d0615ac0-42e7-47c5-8754-d34945b5ebfe"
      },
      "execution_count": 17,
      "outputs": [
        {
          "output_type": "stream",
          "name": "stdout",
          "text": [
            "[1, 4, 9, 16, 25, 36, 49, 64, 81]\n",
            "[1, 4, 9, 16, 25, 36, 49, 64, 81]\n"
          ]
        }
      ]
    },
    {
      "cell_type": "markdown",
      "source": [
        "輸入幾年幾月，幫你判斷那年的那月有幾日"
      ],
      "metadata": {
        "id": "r7mmos3vvz65"
      }
    },
    {
      "cell_type": "code",
      "source": [
        "year,month = input().split()\n",
        "year,month = int(year),int(month)\n",
        "\n",
        "if month==2:\n",
        "  if year%4==0 or year%400==0:\n",
        "    print(str(year)+'年'+str(month)+\"月有29日\")\n",
        "  else:\n",
        "    print(str(year)+'年'+str(month)+\"月有28日\")\n",
        "else:\n",
        "  if month==4:\n",
        "    print(str(year)+'年'+str(month)+\"月有30日\")\n",
        "  elif month==6:\n",
        "    print(str(year)+'年'+str(month)+\"月有30日\")\n",
        "  elif month==9:\n",
        "    print(str(year)+'年'+str(month)+\"月有30日\")\n",
        "  elif month==11:\n",
        "    print(str(year)+'年'+str(month)+\"月有30日\")\n",
        "  else:\n",
        "    print(str(year)+'年'+str(month)+\"月有31日\")"
      ],
      "metadata": {
        "colab": {
          "base_uri": "https://localhost:8080/"
        },
        "id": "SRSGpwiNv6-G",
        "outputId": "ad7e0d6a-3437-465b-c860-998a213d2132"
      },
      "execution_count": 23,
      "outputs": [
        {
          "output_type": "stream",
          "name": "stdout",
          "text": [
            "2004 2\n",
            "2004年2月有29日\n"
          ]
        }
      ]
    },
    {
      "cell_type": "markdown",
      "source": [
        "輸入算式做運算"
      ],
      "metadata": {
        "id": "rsXCgdDswxD0"
      }
    },
    {
      "cell_type": "code",
      "source": [
        "print(eval(input().replace('/','//')))"
      ],
      "metadata": {
        "colab": {
          "base_uri": "https://localhost:8080/"
        },
        "id": "EhRMtsVqwsKo",
        "outputId": "d132c618-8750-4a3e-f02b-c30a84a9b71d"
      },
      "execution_count": 24,
      "outputs": [
        {
          "output_type": "stream",
          "name": "stdout",
          "text": [
            "123+321\n",
            "444\n"
          ]
        }
      ]
    },
    {
      "cell_type": "markdown",
      "source": [
        "https://zerojudge.tw/ShowProblem?problemid=a147\n",
        "a147. Print it all"
      ],
      "metadata": {
        "id": "z7eXseyjwwFw"
      }
    },
    {
      "cell_type": "code",
      "source": [
        "user_input = int(input())\n",
        "for i in range(user_input):\n",
        "    if user_input==0:\n",
        "        break\n",
        "    if i%7==0:\n",
        "        pass\n",
        "    else:\n",
        "        print(str(i)+\" \",end=\"\")"
      ],
      "metadata": {
        "colab": {
          "base_uri": "https://localhost:8080/"
        },
        "id": "NIeCa0-TxUGf",
        "outputId": "eb8973cb-a2ee-43c8-be14-3c2d47d89bb4"
      },
      "execution_count": 25,
      "outputs": [
        {
          "output_type": "stream",
          "name": "stdout",
          "text": [
            "123\n",
            "1 2 3 4 5 6 8 9 10 11 12 13 15 16 17 18 19 20 22 23 24 25 26 27 29 30 31 32 33 34 36 37 38 39 40 41 43 44 45 46 47 48 50 51 52 53 54 55 57 58 59 60 61 62 64 65 66 67 68 69 71 72 73 74 75 76 78 79 80 81 82 83 85 86 87 88 89 90 92 93 94 95 96 97 99 100 101 102 103 104 106 107 108 109 110 111 113 114 115 116 117 118 120 121 122 "
          ]
        }
      ]
    },
    {
      "cell_type": "markdown",
      "source": [
        "https://zerojudge.tw/ShowProblem?problemid=c022\n",
        "c022. 10783 - Odd Sum"
      ],
      "metadata": {
        "id": "1hHnwk1pxi-p"
      }
    },
    {
      "cell_type": "code",
      "source": [
        "start,End = input().split()\n",
        "\n",
        "count = 0\n",
        "for i in range(int(start),int(End)+1):\n",
        "    if i%2==1:\n",
        "        count += i\n",
        "    else:\n",
        "        pass\n",
        "if count!=0:\n",
        "    print(count)"
      ],
      "metadata": {
        "colab": {
          "base_uri": "https://localhost:8080/"
        },
        "id": "JgLOOs0wxmoB",
        "outputId": "f5068f8f-fa46-4a09-b9fd-7454817c4dfc"
      },
      "execution_count": 26,
      "outputs": [
        {
          "output_type": "stream",
          "name": "stdout",
          "text": [
            "3 173\n",
            "7568\n"
          ]
        }
      ]
    },
    {
      "cell_type": "code",
      "source": [
        "a = 2\n",
        "b = 3\n",
        "c = 0\n",
        "\n",
        "if(a>b or a<c and a==2 or b==4):\n",
        "  print('ok1')\n",
        "else:\n",
        "  print('XXX')"
      ],
      "metadata": {
        "id": "GTaA6bfW0cEr",
        "outputId": "8a771111-9654-49c7-e0bf-f21ab1932a65",
        "colab": {
          "base_uri": "https://localhost:8080/"
        }
      },
      "execution_count": 27,
      "outputs": [
        {
          "output_type": "stream",
          "name": "stdout",
          "text": [
            "XXX\n"
          ]
        }
      ]
    }
  ]
}